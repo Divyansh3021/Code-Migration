{
 "cells": [
  {
   "cell_type": "code",
   "execution_count": null,
   "metadata": {},
   "outputs": [],
   "source": [
    "!pip install datasets"
   ]
  },
  {
   "cell_type": "code",
   "execution_count": 10,
   "metadata": {},
   "outputs": [
    {
     "name": "stdout",
     "output_type": "stream",
     "text": [
      "Modules installed\n",
      "Model loaded\n"
     ]
    },
    {
     "ename": "ValueError",
     "evalue": "The truth value of a DataFrame is ambiguous. Use a.empty, a.bool(), a.item(), a.any() or a.all().",
     "output_type": "error",
     "traceback": [
      "\u001b[1;31m---------------------------------------------------------------------------\u001b[0m",
      "\u001b[1;31mValueError\u001b[0m                                Traceback (most recent call last)",
      "\u001b[1;32me:\\Langchain\\Code Migration\\Tuning.ipynb Cell 2\u001b[0m line \u001b[0;36m<cell line: 34>\u001b[1;34m()\u001b[0m\n\u001b[0;32m     <a href='vscode-notebook-cell:/e%3A/Langchain/Code%20Migration/Tuning.ipynb#W0sZmlsZQ%3D%3D?line=29'>30</a>\u001b[0m     \u001b[39mreturn\u001b[39;00m tokenizer(inputs, padding\u001b[39m=\u001b[39m\u001b[39m\"\u001b[39m\u001b[39mmax_length\u001b[39m\u001b[39m\"\u001b[39m, max_length\u001b[39m=\u001b[39m\u001b[39m1024\u001b[39m, return_tensors\u001b[39m=\u001b[39m\u001b[39m\"\u001b[39m\u001b[39mpt\u001b[39m\u001b[39m\"\u001b[39m), tokenizer(targets, padding\u001b[39m=\u001b[39m\u001b[39m\"\u001b[39m\u001b[39mmax_length\u001b[39m\u001b[39m\"\u001b[39m, max_length\u001b[39m=\u001b[39m\u001b[39m1024\u001b[39m, return_tensors\u001b[39m=\u001b[39m\u001b[39m\"\u001b[39m\u001b[39mpt\u001b[39m\u001b[39m\"\u001b[39m)\n\u001b[0;32m     <a href='vscode-notebook-cell:/e%3A/Langchain/Code%20Migration/Tuning.ipynb#W0sZmlsZQ%3D%3D?line=32'>33</a>\u001b[0m \u001b[39m# Preprocess the datasets\u001b[39;00m\n\u001b[1;32m---> <a href='vscode-notebook-cell:/e%3A/Langchain/Code%20Migration/Tuning.ipynb#W0sZmlsZQ%3D%3D?line=33'>34</a>\u001b[0m train_dataset \u001b[39m=\u001b[39m load_dataset(\u001b[39m\"\u001b[39;49m\u001b[39mpandas\u001b[39;49m\u001b[39m\"\u001b[39;49m, data_files\u001b[39m=\u001b[39;49mtrain_data)\n\u001b[0;32m     <a href='vscode-notebook-cell:/e%3A/Langchain/Code%20Migration/Tuning.ipynb#W0sZmlsZQ%3D%3D?line=34'>35</a>\u001b[0m train_dataset \u001b[39m=\u001b[39m train_dataset\u001b[39m.\u001b[39mmap(preprocess_function, batched\u001b[39m=\u001b[39m\u001b[39mTrue\u001b[39;00m)\n\u001b[0;32m     <a href='vscode-notebook-cell:/e%3A/Langchain/Code%20Migration/Tuning.ipynb#W0sZmlsZQ%3D%3D?line=35'>36</a>\u001b[0m eval_dataset \u001b[39m=\u001b[39m load_dataset(\u001b[39m\"\u001b[39m\u001b[39mpandas\u001b[39m\u001b[39m\"\u001b[39m, data_files\u001b[39m=\u001b[39mvalid_data)\n",
      "File \u001b[1;32mc:\\Users\\divya\\AppData\\Local\\Programs\\Python\\Python310\\lib\\site-packages\\datasets\\load.py:2109\u001b[0m, in \u001b[0;36mload_dataset\u001b[1;34m(path, name, data_dir, data_files, split, cache_dir, features, download_config, download_mode, verification_mode, ignore_verifications, keep_in_memory, save_infos, revision, token, use_auth_token, task, streaming, num_proc, storage_options, **config_kwargs)\u001b[0m\n\u001b[0;32m   2107\u001b[0m \u001b[39melse\u001b[39;00m:\n\u001b[0;32m   2108\u001b[0m     task \u001b[39m=\u001b[39m \u001b[39mNone\u001b[39;00m\n\u001b[1;32m-> 2109\u001b[0m \u001b[39mif\u001b[39;00m data_files \u001b[39mis\u001b[39;00m \u001b[39mnot\u001b[39;00m \u001b[39mNone\u001b[39;00m \u001b[39mand\u001b[39;00m \u001b[39mnot\u001b[39;00m data_files:\n\u001b[0;32m   2110\u001b[0m     \u001b[39mraise\u001b[39;00m \u001b[39mValueError\u001b[39;00m(\u001b[39mf\u001b[39m\u001b[39m\"\u001b[39m\u001b[39mEmpty \u001b[39m\u001b[39m'\u001b[39m\u001b[39mdata_files\u001b[39m\u001b[39m'\u001b[39m\u001b[39m: \u001b[39m\u001b[39m'\u001b[39m\u001b[39m{\u001b[39;00mdata_files\u001b[39m}\u001b[39;00m\u001b[39m'\u001b[39m\u001b[39m. It should be either non-empty or None (default).\u001b[39m\u001b[39m\"\u001b[39m)\n\u001b[0;32m   2111\u001b[0m \u001b[39mif\u001b[39;00m Path(path, config\u001b[39m.\u001b[39mDATASET_STATE_JSON_FILENAME)\u001b[39m.\u001b[39mexists():\n",
      "File \u001b[1;32mc:\\Users\\divya\\AppData\\Local\\Programs\\Python\\Python310\\lib\\site-packages\\pandas\\core\\generic.py:1519\u001b[0m, in \u001b[0;36mNDFrame.__nonzero__\u001b[1;34m(self)\u001b[0m\n\u001b[0;32m   1517\u001b[0m \u001b[39m@final\u001b[39m\n\u001b[0;32m   1518\u001b[0m \u001b[39mdef\u001b[39;00m \u001b[39m__nonzero__\u001b[39m(\u001b[39mself\u001b[39m) \u001b[39m-\u001b[39m\u001b[39m>\u001b[39m NoReturn:\n\u001b[1;32m-> 1519\u001b[0m     \u001b[39mraise\u001b[39;00m \u001b[39mValueError\u001b[39;00m(\n\u001b[0;32m   1520\u001b[0m         \u001b[39mf\u001b[39m\u001b[39m\"\u001b[39m\u001b[39mThe truth value of a \u001b[39m\u001b[39m{\u001b[39;00m\u001b[39mtype\u001b[39m(\u001b[39mself\u001b[39m)\u001b[39m.\u001b[39m\u001b[39m__name__\u001b[39m\u001b[39m}\u001b[39;00m\u001b[39m is ambiguous. \u001b[39m\u001b[39m\"\u001b[39m\n\u001b[0;32m   1521\u001b[0m         \u001b[39m\"\u001b[39m\u001b[39mUse a.empty, a.bool(), a.item(), a.any() or a.all().\u001b[39m\u001b[39m\"\u001b[39m\n\u001b[0;32m   1522\u001b[0m     )\n",
      "\u001b[1;31mValueError\u001b[0m: The truth value of a DataFrame is ambiguous. Use a.empty, a.bool(), a.item(), a.any() or a.all()."
     ]
    }
   ],
   "source": [
    "import torch\n",
    "from transformers import BartForConditionalGeneration, BartTokenizer\n",
    "from transformers import TrainingArguments, Trainer\n",
    "from datasets import load_dataset\n",
    "import pandas as pd\n",
    "\n",
    "print(\"Modules installed\")\n",
    "\n",
    "\n",
    "# Load your dataset from a CSV file\n",
    "data = pd.read_csv(\"Data/code_to_code_geekforgeek.csv\")\n",
    "\n",
    "# Split your dataset into train, validation, and test sets\n",
    "train_data = data.sample(frac=0.8, random_state=42)\n",
    "remaining_data = data.drop(train_data.index)\n",
    "valid_data = remaining_data.sample(frac=0.5, random_state=42)\n",
    "test_data = remaining_data.drop(valid_data.index)\n",
    "\n",
    "\n",
    "# Load the BART model and tokenizer\n",
    "model_name = \"facebook/bart-base\"\n",
    "model = BartForConditionalGeneration.from_pretrained(model_name)\n",
    "tokenizer = BartTokenizer.from_pretrained(model_name)\n",
    "print(\"Model loaded\")\n",
    "\n",
    "# Define a function to preprocess your dataset\n",
    "def preprocess_function(examples):\n",
    "    inputs = examples[\"input_text\"]\n",
    "    targets = examples[\"output_text\"]\n",
    "    return tokenizer(inputs, padding=\"max_length\", max_length=1024, return_tensors=\"pt\"), tokenizer(targets, padding=\"max_length\", max_length=1024, return_tensors=\"pt\")\n",
    "\n",
    "\n",
    "# Preprocess the datasets\n",
    "train_dataset = load_dataset(\"pandas\", data_files=train_data)\n",
    "train_dataset = train_dataset.map(preprocess_function, batched=True)\n",
    "eval_dataset = load_dataset(\"pandas\", data_files=valid_data)\n",
    "eval_dataset = eval_dataset.map(preprocess_function, batched=True)\n",
    "test_dataset = load_dataset(\"pandas\", data_files=test_data)\n",
    "test_dataset = test_dataset.map(preprocess_function, batched=True)\n",
    "print(\"Preprocessing complete\")\n",
    "\n",
    "# Define training arguments\n",
    "training_args = TrainingArguments(\n",
    "    output_dir=\"./code_migration_model\",\n",
    "    per_device_train_batch_size=4,\n",
    "    per_device_eval_batch_size=4,\n",
    "    evaluation_strategy=\"steps\",\n",
    "    save_total_limit=2,\n",
    "    num_train_epochs=3,\n",
    "    eval_steps=500,\n",
    "    save_steps=500,\n",
    "    logging_dir=\"./logs\",\n",
    ")\n",
    "\n",
    "# Create a Trainer\n",
    "trainer = Trainer(\n",
    "    model=model,\n",
    "    args=training_args,\n",
    "    train_dataset=train_dataset,\n",
    "    eval_dataset=eval_dataset,\n",
    ")\n",
    "\n",
    "print(\"Training Initialized\")\n",
    "# Fine-tune the model\n",
    "trainer.train()\n",
    "\n",
    "\n",
    "print(\"Saving model\")\n",
    "# Save the model\n",
    "trainer.save_model()\n",
    "\n",
    "# Optionally, evaluate the model on a test dataset\n",
    "test_dataset = dataset[\"test\"].map(preprocess_function, batched=True)\n",
    "results = trainer.evaluate(test_dataset)\n",
    "print(results)\n",
    "\n",
    "# You can use the fine-tuned model for code migration\n"
   ]
  },
  {
   "cell_type": "code",
   "execution_count": null,
   "metadata": {},
   "outputs": [],
   "source": []
  }
 ],
 "metadata": {
  "kernelspec": {
   "display_name": "Python 3",
   "language": "python",
   "name": "python3"
  },
  "language_info": {
   "codemirror_mode": {
    "name": "ipython",
    "version": 3
   },
   "file_extension": ".py",
   "mimetype": "text/x-python",
   "name": "python",
   "nbconvert_exporter": "python",
   "pygments_lexer": "ipython3",
   "version": "3.10.11"
  }
 },
 "nbformat": 4,
 "nbformat_minor": 2
}
